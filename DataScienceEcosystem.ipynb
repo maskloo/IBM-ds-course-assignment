{
 "cells": [
  {
   "cell_type": "markdown",
   "id": "c08a98ee-5566-463d-bc48-618dddfa34eb",
   "metadata": {},
   "source": [
    "<!-- # Data Science Tools and Ecosystem -->\n",
    "# Data Science Tools and Ecosystem"
   ]
  },
  {
   "cell_type": "markdown",
   "id": "ac14f66f-56a0-4f52-b082-90f35bdc3249",
   "metadata": {},
   "source": [
    "In this notebook, Data Science Tools and Ecosystem are summarized."
   ]
  },
  {
   "cell_type": "markdown",
   "id": "0aeabe63-5ace-4b0d-a595-be062ee47b6e",
   "metadata": {},
   "source": [
    "## __Objectives:__\n",
    "\n",
    "+ List popular languages for Data Science\n",
    "+ List popular development tools for Data Science\n",
    "+ List popular libraries for Data Science"
   ]
  },
  {
   "cell_type": "markdown",
   "id": "572ee7aa-709d-4a1c-abf8-9230779d877b",
   "metadata": {},
   "source": [
    "Some of the popular languages that Data Scientists use are:\n",
    "1. Python\n",
    "2. R\n",
    "3. SQL\n",
    "4. Java\n",
    "5. Scala\n",
    "6. JavaScript\n",
    "7. Swift"
   ]
  },
  {
   "cell_type": "markdown",
   "id": "853772be-f342-4a02-950b-dd77e6ec25d8",
   "metadata": {},
   "source": [
    "Some of the commonly used libraries used by Data Scientists include:\n",
    "\n",
    "- TensorFlow\n",
    "- NumPy\n",
    "- SciPy\n",
    "- Pandas\n",
    "- Matplotlib\n",
    "- Keras\n",
    "- SciKit-Learn\n",
    "- PyTorch"
   ]
  },
  {
   "cell_type": "markdown",
   "id": "20865a95-1520-4384-83d2-ce9a363b6601",
   "metadata": {},
   "source": [
    "|Data Science Tools|\n",
    "|---|\n",
    "|Jupyter Notebooks|\n",
    "|R|\n",
    "|Git|"
   ]
  },
  {
   "cell_type": "markdown",
   "id": "d8b61cfc-30a6-4136-9f35-e12e0ed2886f",
   "metadata": {},
   "source": [
    "### Below are a few examples of evaluating arithmetic expressions in Python"
   ]
  },
  {
   "cell_type": "code",
   "execution_count": 9,
   "id": "adcc2a28-8736-4049-8d99-d5786c66b707",
   "metadata": {
    "tags": []
   },
   "outputs": [
    {
     "data": {
      "text/plain": [
       "17"
      ]
     },
     "execution_count": 9,
     "metadata": {},
     "output_type": "execute_result"
    }
   ],
   "source": [
    "# This a simple arithmetic expression to mutiply \n",
    "# then add integers.\n",
    "\n",
    "(3*4)+5"
   ]
  },
  {
   "cell_type": "code",
   "execution_count": 11,
   "id": "78fe49b2-a438-494b-93df-9a17ae5bf015",
   "metadata": {},
   "outputs": [
    {
     "data": {
      "text/plain": [
       "3.3333333333333335"
      ]
     },
     "execution_count": 11,
     "metadata": {},
     "output_type": "execute_result"
    }
   ],
   "source": [
    "# This will convert 200 minutes to hours by diving by 60\n",
    "\n",
    "200/60"
   ]
  },
  {
   "cell_type": "markdown",
   "id": "096f0866-6c88-47b5-a12b-2e19b33fbedb",
   "metadata": {},
   "source": [
    "## Author:\n",
    "Yunjie Wunkit Lu"
   ]
  },
  {
   "cell_type": "code",
   "execution_count": null,
   "id": "17a4a087-d741-457a-95a5-c39588eb94ea",
   "metadata": {},
   "outputs": [],
   "source": []
  }
 ],
 "metadata": {
  "kernelspec": {
   "display_name": "Python 3 (ipykernel)",
   "language": "python",
   "name": "python3"
  },
  "language_info": {
   "codemirror_mode": {
    "name": "ipython",
    "version": 3
   },
   "file_extension": ".py",
   "mimetype": "text/x-python",
   "name": "python",
   "nbconvert_exporter": "python",
   "pygments_lexer": "ipython3",
   "version": "3.9.7"
  }
 },
 "nbformat": 4,
 "nbformat_minor": 5
}
